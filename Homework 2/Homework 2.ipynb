{
 "cells": [
  {
   "cell_type": "code",
   "execution_count": null,
   "id": "20081946",
   "metadata": {},
   "outputs": [],
   "source": [
    "#Import CSV \n",
    "#Create a dataframe from it \n",
    "#Create a smaller df w select columns \n",
    "#Make crosstab with 2 numerical columns \n",
    "#Make boxplot with 2 numerical columns\n",
    "#Locate one of the max vals from df.describe() and set equal to max_df\n",
    "#create smaller df containing word of my choice\n",
    "#Save as new CSV"
   ]
  },
  {
   "cell_type": "code",
   "execution_count": 26,
   "id": "84fdc48a",
   "metadata": {},
   "outputs": [
    {
     "data": {
      "image/png": "[encoded data removed]",
      "text/plain": [
       "<Figure size 432x288 with 1 Axes>"
      ]
     },
     "metadata": {
      "needs_background": "light"
     },
     "output_type": "display_data"
    }
   ],
   "source": [
    "import pandas as pd\n",
    "import numpy as py\n",
    "\n",
    "#Importing the csv of all the qualifying laptimes from 2006 to 2020\n",
    "laptimes_df = pd.read_csv(\"qualifying_times_2006-2020.csv\")\n",
    "laptimes_df\n",
    "\n",
    "#Creating a smaller dataframe with only Q3 laps \n",
    "laptimes_q3 = laptimes_df[['Year', 'Position', 'Venue', 'Name', 'Team', 'Q3']]\n",
    "laptimes_q3\n",
    "\n",
    "#displaying only 2020 laptimes \n",
    "laps_2020 = laptimes_q3.loc[laptimes_q3[\"Year\"] == 2020]\n",
    "laps_2020\n",
    "\n",
    "#laptimes in 2020 for Mercedes only \n",
    "laps_2020_merc = laps_2020.loc[laps_2020[\"Team\"] == 'Mercedes']\n",
    "\n",
    "#laptimes at Monza Only\n",
    "laps_monza = laptimes_df.loc[laptimes_df[\"Venue\"] == 'italy']\n",
    "\n",
    "#crosstab displaying the correlation between laptimes and position\n",
    "position_time = pd.crosstab(laptimes_q3[\"Position\"], laptimes_q3[\"Q3\"])\n",
    "position_time\n",
    "\n",
    "#Boxplot of the Year and the Number of Laps\n",
    "laptimes_df.boxplot(column=[\"Year\", \"Laps\"])\n",
    "\n",
    "#Setting max_df equal to the maxes\n",
    "laptimes_df.describe()\n",
    "max_df = laptimes_df.describe().loc[['max']]\n",
    "\n",
    "#Saving the 2020 Mercedes Laptimes as a CSV\n",
    "laps_2020_merc.to_csv('Mercedes 2020 Qualifying Laptimes.csv')\n",
    "\n"
   ]
  },
  {
   "cell_type": "code",
   "execution_count": null,
   "id": "0d343527",
   "metadata": {},
   "outputs": [],
   "source": []
  },
  {
   "cell_type": "code",
   "execution_count": null,
   "id": "360f2c5f",
   "metadata": {},
   "outputs": [],
   "source": []
  }
 ],
 "metadata": {
  "kernelspec": {
   "display_name": "Python 3",
   "language": "python",
   "name": "python3"
  },
  "language_info": {
   "codemirror_mode": {
    "name": "ipython",
    "version": 3
   },
   "file_extension": ".py",
   "mimetype": "text/x-python",
   "name": "python",
   "nbconvert_exporter": "python",
   "pygments_lexer": "ipython3",
   "version": "3.8.8"
  }
 },
 "nbformat": 4,
 "nbformat_minor": 5
}
