{
 "cells": [
  {
   "cell_type": "code",
   "execution_count": 4,
   "id": "167334c8",
   "metadata": {},
   "outputs": [
    {
     "data": {
      "text/html": [
       "<div>\n",
       "<style scoped>\n",
       "    .dataframe tbody tr th:only-of-type {\n",
       "        vertical-align: middle;\n",
       "    }\n",
       "\n",
       "    .dataframe tbody tr th {\n",
       "        vertical-align: top;\n",
       "    }\n",
       "\n",
       "    .dataframe thead th {\n",
       "        text-align: right;\n",
       "    }\n",
       "</style>\n",
       "<table border=\"1\" class=\"dataframe\">\n",
       "  <thead>\n",
       "    <tr style=\"text-align: right;\">\n",
       "      <th></th>\n",
       "      <th>Unnamed: 0</th>\n",
       "      <th>lap</th>\n",
       "      <th>driver</th>\n",
       "      <th>position</th>\n",
       "      <th>time</th>\n",
       "      <th>secs</th>\n",
       "    </tr>\n",
       "  </thead>\n",
       "  <tbody>\n",
       "    <tr>\n",
       "      <th>0</th>\n",
       "      <td>0</td>\n",
       "      <td>1</td>\n",
       "      <td>max_verstappen</td>\n",
       "      <td>1</td>\n",
       "      <td>1:38.603</td>\n",
       "      <td>98.603</td>\n",
       "    </tr>\n",
       "    <tr>\n",
       "      <th>1</th>\n",
       "      <td>1</td>\n",
       "      <td>1</td>\n",
       "      <td>hamilton</td>\n",
       "      <td>2</td>\n",
       "      <td>1:42.572</td>\n",
       "      <td>102.572</td>\n",
       "    </tr>\n",
       "    <tr>\n",
       "      <th>2</th>\n",
       "      <td>2</td>\n",
       "      <td>1</td>\n",
       "      <td>leclerc</td>\n",
       "      <td>3</td>\n",
       "      <td>1:47.198</td>\n",
       "      <td>107.198</td>\n",
       "    </tr>\n",
       "    <tr>\n",
       "      <th>3</th>\n",
       "      <td>3</td>\n",
       "      <td>1</td>\n",
       "      <td>perez</td>\n",
       "      <td>4</td>\n",
       "      <td>1:47.814</td>\n",
       "      <td>107.814</td>\n",
       "    </tr>\n",
       "    <tr>\n",
       "      <th>4</th>\n",
       "      <td>4</td>\n",
       "      <td>1</td>\n",
       "      <td>ricciardo</td>\n",
       "      <td>5</td>\n",
       "      <td>1:52.843</td>\n",
       "      <td>112.843</td>\n",
       "    </tr>\n",
       "    <tr>\n",
       "      <th>...</th>\n",
       "      <td>...</td>\n",
       "      <td>...</td>\n",
       "      <td>...</td>\n",
       "      <td>...</td>\n",
       "      <td>...</td>\n",
       "      <td>...</td>\n",
       "    </tr>\n",
       "    <tr>\n",
       "      <th>1119</th>\n",
       "      <td>1119</td>\n",
       "      <td>63</td>\n",
       "      <td>raikkonen</td>\n",
       "      <td>9</td>\n",
       "      <td>1:19.527</td>\n",
       "      <td>79.527</td>\n",
       "    </tr>\n",
       "    <tr>\n",
       "      <th>1120</th>\n",
       "      <td>1120</td>\n",
       "      <td>63</td>\n",
       "      <td>ocon</td>\n",
       "      <td>10</td>\n",
       "      <td>1:19.561</td>\n",
       "      <td>79.561</td>\n",
       "    </tr>\n",
       "    <tr>\n",
       "      <th>1121</th>\n",
       "      <td>1121</td>\n",
       "      <td>63</td>\n",
       "      <td>alonso</td>\n",
       "      <td>11</td>\n",
       "      <td>1:19.660</td>\n",
       "      <td>79.660</td>\n",
       "    </tr>\n",
       "    <tr>\n",
       "      <th>1122</th>\n",
       "      <td>1122</td>\n",
       "      <td>63</td>\n",
       "      <td>perez</td>\n",
       "      <td>12</td>\n",
       "      <td>1:19.672</td>\n",
       "      <td>79.672</td>\n",
       "    </tr>\n",
       "    <tr>\n",
       "      <th>1123</th>\n",
       "      <td>1123</td>\n",
       "      <td>63</td>\n",
       "      <td>tsunoda</td>\n",
       "      <td>13</td>\n",
       "      <td>1:18.408</td>\n",
       "      <td>78.408</td>\n",
       "    </tr>\n",
       "  </tbody>\n",
       "</table>\n",
       "<p>1124 rows × 6 columns</p>\n",
       "</div>"
      ],
      "text/plain": [
       "      Unnamed: 0  lap          driver  position      time     secs\n",
       "0              0    1  max_verstappen         1  1:38.603   98.603\n",
       "1              1    1        hamilton         2  1:42.572  102.572\n",
       "2              2    1         leclerc         3  1:47.198  107.198\n",
       "3              3    1           perez         4  1:47.814  107.814\n",
       "4              4    1       ricciardo         5  1:52.843  112.843\n",
       "...          ...  ...             ...       ...       ...      ...\n",
       "1119        1119   63       raikkonen         9  1:19.527   79.527\n",
       "1120        1120   63            ocon        10  1:19.561   79.561\n",
       "1121        1121   63          alonso        11  1:19.660   79.660\n",
       "1122        1122   63           perez        12  1:19.672   79.672\n",
       "1123        1123   63         tsunoda        13  1:18.408   78.408\n",
       "\n",
       "[1124 rows x 6 columns]"
      ]
     },
     "execution_count": 4,
     "metadata": {},
     "output_type": "execute_result"
    }
   ],
   "source": [
    "import json\n",
    "import csv\n",
    "import pandas as pd\n",
    "import numpy as np\n",
    "import matplotlib.pyplot as plt\n",
    "import statsmodels.api as sm\n",
    "\n",
    "#reading in activity.csv\n",
    "df = pd.read_csv('2021_Imola_Laptimes.csv')\n",
    "df"
   ]
  },
  {
   "cell_type": "code",
   "execution_count": 13,
   "id": "2a03e836",
   "metadata": {},
   "outputs": [
    {
     "data": {
      "text/html": [
       "<div>\n",
       "<style scoped>\n",
       "    .dataframe tbody tr th:only-of-type {\n",
       "        vertical-align: middle;\n",
       "    }\n",
       "\n",
       "    .dataframe tbody tr th {\n",
       "        vertical-align: top;\n",
       "    }\n",
       "\n",
       "    .dataframe thead th {\n",
       "        text-align: right;\n",
       "    }\n",
       "</style>\n",
       "<table border=\"1\" class=\"dataframe\">\n",
       "  <thead>\n",
       "    <tr style=\"text-align: right;\">\n",
       "      <th></th>\n",
       "      <th>position</th>\n",
       "      <th>secs</th>\n",
       "    </tr>\n",
       "  </thead>\n",
       "  <tbody>\n",
       "    <tr>\n",
       "      <th>position</th>\n",
       "      <td>1.000000</td>\n",
       "      <td>-0.003563</td>\n",
       "    </tr>\n",
       "    <tr>\n",
       "      <th>secs</th>\n",
       "      <td>-0.003563</td>\n",
       "      <td>1.000000</td>\n",
       "    </tr>\n",
       "  </tbody>\n",
       "</table>\n",
       "</div>"
      ],
      "text/plain": [
       "          position      secs\n",
       "position  1.000000 -0.003563\n",
       "secs     -0.003563  1.000000"
      ]
     },
     "execution_count": 13,
     "metadata": {},
     "output_type": "execute_result"
    }
   ],
   "source": [
    "#cleaning data\n",
    "df.dropna()\n",
    "\n",
    "laptimes_seconds = df[['lap', 'driver', 'position', 'secs']]\n",
    "laptimes_seconds_2 = laptimes_seconds.loc[laptimes_seconds[\"lap\"] >= 10]\n",
    "only_numerical_data = laptimes_seconds_2[['position', 'secs']]\n",
    "only_numerical_data.corr()"
   ]
  },
  {
   "cell_type": "code",
   "execution_count": 15,
   "id": "1fc5f6ef",
   "metadata": {},
   "outputs": [],
   "source": [
    "#the conclusion from the correlation above shows taht as position in the race increases, the laptime decreases. \n",
    "#This makes sense, as people who are at the front of the pack in the race are lapping the circuit more quickly than\n",
    "#the backmarkers. "
   ]
  },
  {
   "cell_type": "code",
   "execution_count": 14,
   "id": "39815f38",
   "metadata": {},
   "outputs": [
    {
     "data": {
      "text/plain": [
       "<AxesSubplot:>"
      ]
     },
     "execution_count": 14,
     "metadata": {},
     "output_type": "execute_result"
    },
    {
     "data": {
      "image/png": "[encoded data removed]",
      "text/plain": [
       "<Figure size 432x288 with 1 Axes>"
      ]
     },
     "metadata": {
      "needs_background": "light"
     },
     "output_type": "display_data"
    }
   ],
   "source": [
    "#plotting the data\n",
    "only_numerical_data.plot()"
   ]
  },
  {
   "cell_type": "code",
   "execution_count": null,
   "id": "4a7abe8d",
   "metadata": {},
   "outputs": [],
   "source": []
  }
 ],
 "metadata": {
  "kernelspec": {
   "display_name": "Python 3",
   "language": "python",
   "name": "python3"
  },
  "language_info": {
   "codemirror_mode": {
    "name": "ipython",
    "version": 3
   },
   "file_extension": ".py",
   "mimetype": "text/x-python",
   "name": "python",
   "nbconvert_exporter": "python",
   "pygments_lexer": "ipython3",
   "version": "3.8.8"
  }
 },
 "nbformat": 4,
 "nbformat_minor": 5
}
