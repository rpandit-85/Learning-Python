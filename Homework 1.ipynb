{
 "cells": [
  {
   "cell_type": "code",
   "execution_count": 7,
   "id": "d51e58ec",
   "metadata": {},
   "outputs": [
    {
     "name": "stdout",
     "output_type": "stream",
     "text": [
      "{'F1 Drivers': [{'Name': 'Max Verstappen', 'Team': 'Red Bull'}, {'Name': 'Sergio Perez', 'Team ': 'Red Bull '}, {'Name ': 'Lewis Hamilton ', 'Team ': 'Mercedes'}, {'Name ': 'Valterri Bottas', 'Team ': 'Mercedes'}, {'Name ': 'Lando Norris', 'Team ': 'McLaren '}, {'Name ': 'Daniel Ricciardo ', 'Team ': 'McLaren '}, {'Name': 'Charles Leclerc', 'Team ': 'Ferrari '}, {'Name ': 'Carlos Sainz', 'Team ': 'Ferrari'}, {'Name ': 'Fernando Alonso ', 'Team ': 'Alpine'}, {'Name': 'Esteban Ocon', 'Team ': 'Alpine'}, {'Name': 'Pierre Gasly', 'Team ': 'Alphatauri '}, {'Name ': 'Yuki Tsunoda', 'Team ': 'Alphatauri'}, {'Name ': 'Sebastian Vettel ', 'Team ': 'Aston Martin '}, {'Name': 'Lance Stroll ', 'Team ': 'Aston Martin'}, {'Name': 'George Russell ', 'Team ': 'Williams'}, {'Name ': 'Nicholas Latifi', 'Team ': 'Williams '}, {'Name ': 'Kimi Raikonnen', 'Team ': 'Alfa Romeo'}, {'Name ': 'Antonio Giovinazzi ', 'Team ': 'Alfa Romeo '}, {'Name': 'Mick Schumacher', 'Team ': 'Haas'}, {'Name ': 'Nikita Mazepin', 'Team ': 'Haas '}]}\n"
     ]
    },
    {
     "ename": "FileNotFoundError",
     "evalue": "[Errno 2] No such file or directory: 'Macintosh HD/Users/rohanpandit/TAMID Tech Edu/f1.csv'",
     "output_type": "error",
     "traceback": [
      "\u001b[0;31m---------------------------------------------------------------------------\u001b[0m",
      "\u001b[0;31mFileNotFoundError\u001b[0m                         Traceback (most recent call last)",
      "\u001b[0;32m<ipython-input-7-6393995606a0>\u001b[0m in \u001b[0;36m<module>\u001b[0;34m\u001b[0m\n\u001b[1;32m      9\u001b[0m \u001b[0;34m\u001b[0m\u001b[0m\n\u001b[1;32m     10\u001b[0m \u001b[0mnames\u001b[0m \u001b[0;34m=\u001b[0m \u001b[0mdata\u001b[0m\u001b[0;34m[\u001b[0m\u001b[0;34m'F1 Drivers'\u001b[0m\u001b[0;34m]\u001b[0m\u001b[0;34m\u001b[0m\u001b[0;34m\u001b[0m\u001b[0m\n\u001b[0;32m---> 11\u001b[0;31m \u001b[0mdata_file\u001b[0m \u001b[0;34m=\u001b[0m \u001b[0mopen\u001b[0m\u001b[0;34m(\u001b[0m\u001b[0;34m'Macintosh HD/Users/rohanpandit/TAMID Tech Edu/f1.csv'\u001b[0m\u001b[0;34m,\u001b[0m \u001b[0;34m'w'\u001b[0m\u001b[0;34m)\u001b[0m\u001b[0;34m\u001b[0m\u001b[0;34m\u001b[0m\u001b[0m\n\u001b[0m",
      "\u001b[0;31mFileNotFoundError\u001b[0m: [Errno 2] No such file or directory: 'Macintosh HD/Users/rohanpandit/TAMID Tech Edu/f1.csv'"
     ]
    }
   ],
   "source": [
    "import json\n",
    "import csv\n",
    "import pandas as pd \n",
    "\n",
    "with open('tamid-week-1-homework.json') as json_file:\n",
    "    data = json.load(json_file)\n",
    "    \n",
    "print(data)\n",
    "\n",
    "names = data['F1 Drivers']\n",
    "data_file = open('Macintosh HD/Users/rohanpandit/TAMID Tech Edu/f1.csv', 'w')\n",
    "csv_writer = writerow(names[0].keys())\n",
    "for name in names: \n",
    "    csv_writer.writerow(name.values())\n",
    "data_file.close()\n",
    "\n",
    "df = pd.read_csv('f1.csv')\n",
    "df\n",
    "\n",
    "driver_names = df['Name'].toList()"
   ]
  },
  {
   "cell_type": "code",
   "execution_count": null,
   "id": "9286ed62",
   "metadata": {},
   "outputs": [],
   "source": []
  },
  {
   "cell_type": "code",
   "execution_count": null,
   "id": "cc5a5f45",
   "metadata": {},
   "outputs": [],
   "source": []
  },
  {
   "cell_type": "code",
   "execution_count": null,
   "id": "292d0126",
   "metadata": {},
   "outputs": [],
   "source": []
  }
 ],
 "metadata": {
  "kernelspec": {
   "display_name": "Python 3",
   "language": "python",
   "name": "python3"
  },
  "language_info": {
   "codemirror_mode": {
    "name": "ipython",
    "version": 3
   },
   "file_extension": ".py",
   "mimetype": "text/x-python",
   "name": "python",
   "nbconvert_exporter": "python",
   "pygments_lexer": "ipython3",
   "version": "3.8.8"
  }
 },
 "nbformat": 4,
 "nbformat_minor": 5
}
